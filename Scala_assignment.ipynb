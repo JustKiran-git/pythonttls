{
 "cells": [
  {
   "cell_type": "code",
   "execution_count": 2,
   "id": "fc346c5e-c1a1-4e13-9165-5d87502a420a",
   "metadata": {},
   "outputs": [
    {
     "data": {
      "text/plain": [
       "numbers: Array[Int] = Array(1, 2, 3, 4, 5, 6, 7, 8, 9, 10)\r\n"
      ]
     },
     "execution_count": 2,
     "metadata": {},
     "output_type": "execute_result"
    }
   ],
   "source": [
    "val numbers = Array(1, 2, 3, 4, 5, 6, 7, 8, 9, 10)"
   ]
  },
  {
   "cell_type": "code",
   "execution_count": 3,
   "id": "bb470bb9-058f-4a3c-b83b-e617f317a00d",
   "metadata": {},
   "outputs": [
    {
     "name": "stdout",
     "output_type": "stream",
     "text": [
      "Sum of all elements: 55\n"
     ]
    },
    {
     "data": {
      "text/plain": [
       "sum: Int = 55\r\n"
      ]
     },
     "execution_count": 3,
     "metadata": {},
     "output_type": "execute_result"
    }
   ],
   "source": [
    " val sum = numbers.sum\n",
    "    println(\"Sum of all elements: \" + sum)"
   ]
  },
  {
   "cell_type": "code",
   "execution_count": 4,
   "id": "5efdf5fc-240a-422d-b2ac-d9dddf12ee63",
   "metadata": {},
   "outputs": [
    {
     "name": "stdout",
     "output_type": "stream",
     "text": [
      "Average of all elements: 5.5\n"
     ]
    },
    {
     "data": {
      "text/plain": [
       "average: Double = 5.5\r\n"
      ]
     },
     "execution_count": 4,
     "metadata": {},
     "output_type": "execute_result"
    }
   ],
   "source": [
    "   val average = sum / numbers.length.toDouble\n",
    "    println(\"Average of all elements: \" + average)"
   ]
  },
  {
   "cell_type": "code",
   "execution_count": 6,
   "id": "0a7c6754-6893-403e-96a0-b9396feadfdc",
   "metadata": {},
   "outputs": [
    {
     "data": {
      "text/plain": [
       "multipliedNumbers: Array[Int] = Array(2, 4, 6, 8, 10, 12, 14, 16, 18, 20)\r\n"
      ]
     },
     "execution_count": 6,
     "metadata": {},
     "output_type": "execute_result"
    }
   ],
   "source": [
    "val multipliedNumbers = numbers.map(_ * 2)"
   ]
  },
  {
   "cell_type": "code",
   "execution_count": 7,
   "id": "e22c51a7-bc10-4dd6-bac5-7cb1cc0b4544",
   "metadata": {},
   "outputs": [
    {
     "data": {
      "text/plain": [
       "reversedNumbers: Array[Int] = Array(10, 9, 8, 7, 6, 5, 4, 3, 2, 1)\r\n"
      ]
     },
     "execution_count": 7,
     "metadata": {},
     "output_type": "execute_result"
    }
   ],
   "source": [
    "val reversedNumbers = numbers.reverseIterator.toArray"
   ]
  },
  {
   "cell_type": "code",
   "execution_count": 8,
   "id": "ac0fd4cf-99cd-4731-9bc8-c46dd8074ce6",
   "metadata": {},
   "outputs": [
    {
     "data": {
      "text/plain": [
       "maxElement: Int = 10\r\n",
       "minElement: Int = 1\r\n"
      ]
     },
     "execution_count": 8,
     "metadata": {},
     "output_type": "execute_result"
    }
   ],
   "source": [
    "val maxElement = numbers.reduce((a, b) => if (a > b) a else b)\n",
    "val minElement = numbers.reduce((a, b) => if (a < b) a else b)"
   ]
  },
  {
   "cell_type": "code",
   "execution_count": 9,
   "id": "f9f03232-c150-45f1-a2fa-d26b7e79e418",
   "metadata": {},
   "outputs": [
    {
     "data": {
      "text/plain": [
       "numbers: List[Int] = List(1, 2, 3, 4, 5, 6, 7, 8, 9, 10)\r\n"
      ]
     },
     "execution_count": 9,
     "metadata": {},
     "output_type": "execute_result"
    }
   ],
   "source": [
    "val numbers = List.range(1, 11)\n"
   ]
  },
  {
   "cell_type": "code",
   "execution_count": 10,
   "id": "10b059b1-38aa-4b36-bc51-a572b285111e",
   "metadata": {},
   "outputs": [
    {
     "data": {
      "text/plain": [
       "evenNumbers: List[Int] = List(2, 4, 6, 8, 10)\r\n"
      ]
     },
     "execution_count": 10,
     "metadata": {},
     "output_type": "execute_result"
    }
   ],
   "source": [
    "val evenNumbers = numbers.filter(_ % 2 == 0)"
   ]
  },
  {
   "cell_type": "code",
   "execution_count": 11,
   "id": "2afabed0-1148-4994-ba4b-a3973c2d33aa",
   "metadata": {},
   "outputs": [
    {
     "data": {
      "text/plain": [
       "sumOfEvenNumbers: Int = 30\r\n"
      ]
     },
     "execution_count": 11,
     "metadata": {},
     "output_type": "execute_result"
    }
   ],
   "source": [
    " val sumOfEvenNumbers = evenNumbers.sum"
   ]
  },
  {
   "cell_type": "code",
   "execution_count": 20,
   "id": "9bc2ab18-31a0-48af-8162-daa84b38aca3",
   "metadata": {},
   "outputs": [
    {
     "name": "stdout",
     "output_type": "stream",
     "text": [
      "Stack size: 3\n"
     ]
    },
    {
     "data": {
      "text/plain": [
       "stack: scala.collection.mutable.Stack[Int] = Stack(3, 2, 1)\r\n"
      ]
     },
     "execution_count": 20,
     "metadata": {},
     "output_type": "execute_result"
    }
   ],
   "source": [
    "val stack = new scala.collection.mutable.Stack[Int]\n",
    "\n",
    "stack.push(1)\n",
    "stack.push(2)\n",
    "stack.push(3)\n",
    "\n",
    " println(\"Stack size: \" + stack.size)"
   ]
  },
  {
   "cell_type": "code",
   "execution_count": 26,
   "id": "079269a4-bd1c-4b69-8f2e-178e283cca31",
   "metadata": {},
   "outputs": [
    {
     "name": "stdout",
     "output_type": "stream",
     "text": [
      "Top element: 3\n"
     ]
    }
   ],
   "source": [
    "println(s\"Top element: ${stack.head}\")"
   ]
  },
  {
   "cell_type": "code",
   "execution_count": 27,
   "id": "7c6ea8dc-9b46-441f-900c-017fa8fe61e7",
   "metadata": {},
   "outputs": [
    {
     "data": {
      "text/plain": [
       "poppedElement: Int = 3\r\n"
      ]
     },
     "execution_count": 27,
     "metadata": {},
     "output_type": "execute_result"
    }
   ],
   "source": [
    "val poppedElement = stack.pop()"
   ]
  },
  {
   "cell_type": "code",
   "execution_count": 28,
   "id": "1160c563-cb16-4356-85ec-d598c920f7bb",
   "metadata": {},
   "outputs": [
    {
     "data": {
      "text/plain": [
       "topElement: Int = 2\r\n"
      ]
     },
     "execution_count": 28,
     "metadata": {},
     "output_type": "execute_result"
    }
   ],
   "source": [
    "val topElement = stack.top\n"
   ]
  },
  {
   "cell_type": "code",
   "execution_count": 30,
   "id": "eff53dbf-10bd-4016-8336-9aa9d8729b73",
   "metadata": {},
   "outputs": [
    {
     "name": "stdout",
     "output_type": "stream",
     "text": [
      "Map(USA -> Washington D.C., Japan -> Tokyo, Canada -> Ottawa, India -> New Delhi, France -> Paris, Germany -> Berlin)\n"
     ]
    },
    {
     "data": {
      "text/plain": [
       "countryCapitalMap: scala.collection.immutable.Map[String,String] = Map(USA -> Washington D.C., Japan -> Tokyo, Canada -> Ottawa, India -> New Delhi, France -> Paris, Germany -> Berlin)\r\n"
      ]
     },
     "execution_count": 30,
     "metadata": {},
     "output_type": "execute_result"
    }
   ],
   "source": [
    "val countryCapitalMap = Map(\n",
    "  \"France\" -> \"Paris\",\n",
    "  \"Japan\" -> \"Tokyo\",\n",
    "  \"USA\" -> \"Washington D.C.\",\n",
    "   \"Germany\" -> \"Berlin\",\n",
    "    \"Canada\" -> \"Ottawa\",\n",
    "  \"India\" -> \"New Delhi\"\n",
    ")\n",
    "\n",
    "println(countryCapitalMap)"
   ]
  },
  {
   "cell_type": "code",
   "execution_count": 37,
   "id": "a58a8811-ed9c-4acf-aca2-4508ed919f49",
   "metadata": {},
   "outputs": [
    {
     "data": {
      "text/plain": [
       "printCapital: (country: String)Unit\r\n"
      ]
     },
     "execution_count": 37,
     "metadata": {},
     "output_type": "execute_result"
    }
   ],
   "source": [
    "def printCapital(country: String): Unit = {\n",
    "  countryCapitalMap.get(country) match {\n",
    "    case Some(capital) => println(s\"The capital of $country is $capital.\")\n",
    "    case None => println(s\"Country $country not found in the map.\")\n",
    "  }\n",
    "}"
   ]
  },
  {
   "cell_type": "code",
   "execution_count": 38,
   "id": "e77e45bc-3c46-47c2-91a2-424c88e5089a",
   "metadata": {},
   "outputs": [
    {
     "name": "stdout",
     "output_type": "stream",
     "text": [
      "Country Brazil not found in the map.\n"
     ]
    }
   ],
   "source": [
    "printCapital(\"Brazil\")"
   ]
  },
  {
   "cell_type": "code",
   "execution_count": 39,
   "id": "a6b4ad49-c70f-48f4-b98a-380ceafb4b90",
   "metadata": {},
   "outputs": [
    {
     "name": "stdout",
     "output_type": "stream",
     "text": [
      "The capital of Germany is Berlin.\n"
     ]
    }
   ],
   "source": [
    "printCapital(\"Germany\") "
   ]
  },
  {
   "cell_type": "code",
   "execution_count": 40,
   "id": "d94263ec-f6ae-470a-81ff-7e4fa352d92a",
   "metadata": {},
   "outputs": [
    {
     "data": {
      "text/plain": [
       "defined trait Shape\r\n"
      ]
     },
     "execution_count": 40,
     "metadata": {},
     "output_type": "execute_result"
    }
   ],
   "source": [
    "trait Shape {\n",
    "  def area(): Double\n",
    "  def perimeter(): Double\n",
    "}"
   ]
  },
  {
   "cell_type": "code",
   "execution_count": 42,
   "id": "a499327b-ffaf-461b-8df2-e4e1a49f48b9",
   "metadata": {},
   "outputs": [
    {
     "data": {
      "text/plain": [
       "defined class Circle\r\n"
      ]
     },
     "execution_count": 42,
     "metadata": {},
     "output_type": "execute_result"
    }
   ],
   "source": [
    "// Create the Circle class that implements the Shape trait\n",
    "case class Circle(radius: Double) extends Shape {\n",
    "  override def area(): Double = math.Pi * radius * radius\n",
    "  override def perimeter(): Double = 2 * math.Pi * radius\n",
    "}"
   ]
  },
  {
   "cell_type": "code",
   "execution_count": 43,
   "id": "1343f0f7-ddc3-49d4-bc59-7bc275a03be6",
   "metadata": {},
   "outputs": [
    {
     "data": {
      "text/plain": [
       "defined class Rectangle\r\n"
      ]
     },
     "execution_count": 43,
     "metadata": {},
     "output_type": "execute_result"
    }
   ],
   "source": [
    "// Create the Rectangle class that implements the Shape trait\n",
    "case class Rectangle(width: Double, height: Double) extends Shape {\n",
    "  override def area(): Double = width * height\n",
    "  override def perimeter(): Double = 2 * (width + height)\n",
    "}"
   ]
  },
  {
   "cell_type": "code",
   "execution_count": 44,
   "id": "4dde2fc2-fa38-44f4-9ccc-c164d7fe437b",
   "metadata": {},
   "outputs": [
    {
     "name": "stdout",
     "output_type": "stream",
     "text": [
      "Circle Area: 78.53981633974483\n",
      "Circle Perimeter: 31.41592653589793\n",
      "Rectangle Area: 24.0\n",
      "Rectangle Perimeter: 20.0\n"
     ]
    },
    {
     "data": {
      "text/plain": [
       "circle: Circle = Circle(5.0)\r\n",
       "rectangle: Rectangle = Rectangle(4.0,6.0)\r\n"
      ]
     },
     "execution_count": 44,
     "metadata": {},
     "output_type": "execute_result"
    }
   ],
   "source": [
    "val circle = Circle(5.0)\n",
    "val rectangle = Rectangle(4.0, 6.0)\n",
    "\n",
    "println(\"Circle Area: \" + circle.area())\n",
    "println(\"Circle Perimeter: \" + circle.perimeter())\n",
    "println(\"Rectangle Area: \" + rectangle.area())\n",
    "println(\"Rectangle Perimeter: \" + rectangle.perimeter())"
   ]
  },
  {
   "cell_type": "code",
   "execution_count": 46,
   "id": "e138d2fa-f804-44a9-85d0-6a4621657d00",
   "metadata": {},
   "outputs": [
    {
     "data": {
      "text/plain": [
       "defined class Animal\r\n"
      ]
     },
     "execution_count": 46,
     "metadata": {},
     "output_type": "execute_result"
    }
   ],
   "source": [
    "// Define the Animal class\n",
    "class Animal {\n",
    "  def speak(): Unit = println(\"The animal makes a sound.\")\n",
    "  def move(): Unit = println(\"The animal moves.\")\n",
    "}"
   ]
  },
  {
   "cell_type": "code",
   "execution_count": 49,
   "id": "8a1fa53e-118a-404b-a71e-3dc79bfcb52c",
   "metadata": {},
   "outputs": [
    {
     "data": {
      "text/plain": [
       "defined class Animal\r\n",
       "defined class Dog\r\n",
       "defined class Bird\r\n"
      ]
     },
     "execution_count": 49,
     "metadata": {},
     "output_type": "execute_result"
    }
   ],
   "source": [
    "// Define the Animal class\n",
    "class Animal {\n",
    "  def speak(): Unit = println(\"The animal makes a sound.\")\n",
    "  def move(): Unit = println(\"The animal moves.\")\n",
    "}\n",
    "\n",
    "// Define the Dog class\n",
    "class Dog extends Animal {\n",
    "  override def speak(): Unit = println(\"The dog barks.\")\n",
    "  override def move(): Unit = println(\"The dog runs.\")\n",
    "}\n",
    "\n",
    "// Define the Bird class\n",
    "class Bird extends Animal {\n",
    "  override def speak(): Unit = println(\"The bird chirps.\")\n",
    "  override def move(): Unit = println(\"The bird flies.\")\n",
    "}"
   ]
  },
  {
   "cell_type": "code",
   "execution_count": 51,
   "id": "97cff6f6-859d-48fd-b85d-526fd8ede00a",
   "metadata": {},
   "outputs": [
    {
     "name": "stdout",
     "output_type": "stream",
     "text": [
      "The dog barks.\n",
      "The dog runs.\n",
      "The bird chirps.\n",
      "The bird flies.\n"
     ]
    },
    {
     "data": {
      "text/plain": [
       "dog: Dog = Dog@4a9a341e\r\n",
       "bird: Bird = Bird@18684443\r\n"
      ]
     },
     "execution_count": 51,
     "metadata": {},
     "output_type": "execute_result"
    }
   ],
   "source": [
    "val dog = new Dog\n",
    "dog.speak()\n",
    "dog.move()\n",
    "\n",
    "val bird = new Bird\n",
    "bird.speak()\n",
    "bird.move()"
   ]
  },
  {
   "cell_type": "code",
   "execution_count": 54,
   "id": "698e6603-7492-4760-a06a-a0ae38cc14de",
   "metadata": {},
   "outputs": [
    {
     "name": "stdout",
     "output_type": "stream",
     "text": [
      "The dog barks loudly!\n",
      "The dog runs quickly!\n",
      "The bird chirps melodiously!\n",
      "The bird flies swiftly!\n"
     ]
    },
    {
     "data": {
      "text/plain": [
       "dogInstance: Dog = Dog@38bf84d0\r\n",
       "birdInstance: Bird = Bird@3c9eb694\r\n"
      ]
     },
     "execution_count": 54,
     "metadata": {},
     "output_type": "execute_result"
    }
   ],
   "source": [
    "// Create instances of Dog and Bird\n",
    "val dogInstance = new Dog()\n",
    "val birdInstance = new Bird()\n",
    "\n",
    "// Call their speak() and move() methods\n",
    "dogInstance.speak()\n",
    "dogInstance.move()\n",
    "\n",
    "birdInstance.speak()\n",
    "birdInstance.move()"
   ]
  },
  {
   "cell_type": "code",
   "execution_count": 64,
   "id": "61bd5fc7-0040-492f-ae28-b181633fe6c0",
   "metadata": {},
   "outputs": [
    {
     "data": {
      "text/plain": [
       "defined class BankAccount\r\n"
      ]
     },
     "execution_count": 64,
     "metadata": {},
     "output_type": "execute_result"
    }
   ],
   "source": [
    "class BankAccount {\n",
    "  private var accountNumber: Long = _\n",
    "  private var balance: Double = _\n",
    "\n",
    "  def setAccountNumber(number: Long): Unit = {\n",
    "    accountNumber = number\n",
    "  }\n",
    "\n",
    "  def getAccountNumber(): Long = {\n",
    "    accountNumber\n",
    "  }\n",
    "\n",
    "  def setBalance(amount: Double): Unit = {\n",
    "    if (amount >= 0) {\n",
    "      balance = amount\n",
    "    } else {\n",
    "      println(\"Invalid balance. Must be non-negative.\")\n",
    "    }\n",
    "  }\n",
    "\n",
    "  def getBalance(): Double = {\n",
    "    balance\n",
    "  }\n",
    "\n",
    "  def deposit(amount: Double): Unit = {\n",
    "    if (amount > 0) {\n",
    "      balance += amount\n",
    "      println(s\"Deposited $amount. New balance: $balance\")\n",
    "    } else {\n",
    "      println(\"Invalid deposit amount. Must be positive.\")\n",
    "    }\n",
    "  }\n",
    "\n",
    "  def withdraw(amount: Double): Unit = {\n",
    "    if (amount > 0 && amount <= balance) {\n",
    "      balance -= amount\n",
    "      println(s\"Withdrew $amount. New balance: $balance\")\n",
    "    } else if (amount > balance) {\n",
    "      println(\"Insufficient funds.\")\n",
    "    } else {\n",
    "      println(\"Invalid withdrawal amount. Must be positive.\")\n",
    "    }\n",
    "  }\n",
    "\n",
    "  def displayBalance(): Unit = {\n",
    "    println(s\"Your current balance is: $balance\")\n",
    "  }\n",
    "}"
   ]
  },
  {
   "cell_type": "code",
   "execution_count": 66,
   "id": "859a44c8-c741-4361-94bb-cae09eef6923",
   "metadata": {},
   "outputs": [
    {
     "name": "stdout",
     "output_type": "stream",
     "text": [
      "Deposited 500.0. New balance: 10500.0\n",
      "Withdrew 3000.0. New balance: 7500.0\n",
      "Your current balance is: 7500.0\n"
     ]
    },
    {
     "data": {
      "text/plain": [
       "account: BankAccount = BankAccount@69710b65\r\n"
      ]
     },
     "execution_count": 66,
     "metadata": {},
     "output_type": "execute_result"
    }
   ],
   "source": [
    "val account = new BankAccount()\n",
    "account.setAccountNumber(1234567890)\n",
    "account.setBalance(10000.0)\n",
    "account.deposit(500.0)\n",
    "account.withdraw(3000.0)\n",
    "account.displayBalance()"
   ]
  },
  {
   "cell_type": "code",
   "execution_count": null,
   "id": "6686e032-27a4-4b59-884b-436873873cd3",
   "metadata": {},
   "outputs": [],
   "source": []
  }
 ],
 "metadata": {
  "kernelspec": {
   "display_name": "spylon-kernel",
   "language": "scala",
   "name": "spylon-kernel"
  },
  "language_info": {
   "codemirror_mode": "text/x-scala",
   "file_extension": ".scala",
   "help_links": [
    {
     "text": "MetaKernel Magics",
     "url": "https://metakernel.readthedocs.io/en/latest/source/README.html"
    }
   ],
   "mimetype": "text/x-scala",
   "name": "scala",
   "pygments_lexer": "scala",
   "version": "0.4.1"
  }
 },
 "nbformat": 4,
 "nbformat_minor": 5
}
